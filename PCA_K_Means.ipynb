{
  "nbformat": 4,
  "nbformat_minor": 0,
  "metadata": {
    "colab": {
      "provenance": [],
      "authorship_tag": "ABX9TyPn28GspNUtcAoGWgTt0fdX",
      "include_colab_link": true
    },
    "kernelspec": {
      "name": "python3",
      "display_name": "Python 3"
    },
    "language_info": {
      "name": "python"
    }
  },
  "cells": [
    {
      "cell_type": "markdown",
      "metadata": {
        "id": "view-in-github",
        "colab_type": "text"
      },
      "source": [
        "<a href=\"https://colab.research.google.com/github/Nuel2627/DS_ML_Project_colab-integration/blob/main/PCA_K_Means.ipynb\" target=\"_parent\"><img src=\"https://colab.research.google.com/assets/colab-badge.svg\" alt=\"Open In Colab\"/></a>"
      ]
    },
    {
      "cell_type": "code",
      "source": [
        "def run_pca_kmeans_analysis():\n",
        "    import pandas as pd\n",
        "    import numpy as np\n",
        "    import matplotlib.pyplot as plt\n",
        "    import seaborn as sns\n",
        "    from sklearn.preprocessing import StandardScaler\n",
        "    from sklearn.decomposition import PCA\n",
        "    from sklearn.cluster import KMeans\n",
        "    from google.colab import files\n",
        "    import io\n",
        "\n",
        "    # Step 1: Upload file\n",
        "    uploaded = files.upload()\n",
        "    for filename in uploaded:\n",
        "        try:\n",
        "            df = pd.read_csv(io.BytesIO(uploaded[filename]), encoding='utf-8')\n",
        "        except UnicodeDecodeError:\n",
        "            df = pd.read_csv(io.BytesIO(uploaded[filename]), encoding='latin1')\n",
        "        print(f\"Loaded: {filename}\")\n",
        "        display(df.head())\n",
        "        break\n",
        "\n",
        "    # Step 2: Clean and prepare data\n",
        "    features = ['SEX', 'AGE_P', 'SLEEP', 'race_cat', 'Marital', 'smoke_cat', 'drinking_cat',\n",
        "                'activity_cat', 'BMI_cat', 'AGE_cat', 'sleeptime_cat', 'cardiov_cat',\n",
        "                'Met_Endo_cat', 'Respit_cat', 'Muscul_cat', 'Cancer_cat', 'morbidity_cat']\n",
        "\n",
        "    df_clean = df.dropna(subset=features + ['os_censor', 'Overall Survival (Months)']).copy()\n",
        "\n",
        "    # Step 3: One-hot encode categorical variables\n",
        "    X = pd.get_dummies(df_clean[features], drop_first=True)\n",
        "\n",
        "    # Step 4: Standardize\n",
        "    scaler = StandardScaler()\n",
        "    X_scaled = scaler.fit_transform(X)\n",
        "\n",
        "    # Step 5: PCA (keep 95% of variance)\n",
        "    pca = PCA(n_components=0.95)\n",
        "    X_pca = pca.fit_transform(X_scaled)\n",
        "\n",
        "    # Step 6: Determine optimal K using Elbow method\n",
        "    inertia = []\n",
        "    K_range = range(1, 11)\n",
        "    for k in K_range:\n",
        "        km = KMeans(n_clusters=k, random_state=42)\n",
        "        km.fit(X_pca)\n",
        "        inertia.append(km.inertia_)\n",
        "\n",
        "    plt.figure(figsize=(8, 5))\n",
        "    plt.plot(K_range, inertia, marker='o', linestyle='-')\n",
        "    plt.title('Elbow Method: Optimal K')\n",
        "    plt.xlabel('Number of clusters (K)')\n",
        "    plt.ylabel('Inertia')\n",
        "    plt.xticks(K_range)\n",
        "    plt.grid(True)\n",
        "    plt.show()\n",
        "\n",
        "    # Step 7: Apply KMeans (choose K=3 for now, can adjust)\n",
        "    optimal_k = 3\n",
        "    kmeans = KMeans(n_clusters=optimal_k, random_state=42)\n",
        "    clusters = kmeans.fit_predict(X_pca)\n",
        "\n",
        "    df_clean['cluster'] = clusters\n",
        "    df_clean['PC1'] = X_pca[:, 0]\n",
        "    df_clean['PC2'] = X_pca[:, 1]\n",
        "\n",
        "    # Step 8: Scree Plot\n",
        "    pca_full = PCA().fit(X_scaled)\n",
        "    plt.figure(figsize=(8, 5))\n",
        "    plt.plot(range(1, len(pca_full.explained_variance_ratio_)+1),\n",
        "             pca_full.explained_variance_ratio_, marker='o', linestyle='--')\n",
        "    plt.title('Scree Plot: Explained Variance by Principal Component')\n",
        "    plt.xlabel('Principal Component')\n",
        "    plt.ylabel('Explained Variance Ratio')\n",
        "    plt.xticks(range(1, len(pca_full.explained_variance_ratio_)+1))\n",
        "    plt.grid(True)\n",
        "    plt.tight_layout()\n",
        "    plt.show()\n",
        "\n",
        "    # Step 9: PCA Biplot\n",
        "    loadings = pca.components_.T[:, :2]\n",
        "    feature_names = X.columns\n",
        "    plt.figure(figsize=(10, 8))\n",
        "    sns.scatterplot(x=X_pca[:, 0], y=X_pca[:, 1], hue=clusters, palette='Set2', alpha=0.6)\n",
        "    for i, feature in enumerate(feature_names):\n",
        "        plt.arrow(0, 0, loadings[i, 0]*3, loadings[i, 1]*3, color='black', alpha=0.5, head_width=0.05)\n",
        "        plt.text(loadings[i, 0]*3.2, loadings[i, 1]*3.2, feature, fontsize=9)\n",
        "    plt.xlabel('PC1')\n",
        "    plt.ylabel('PC2')\n",
        "    plt.title('PCA Biplot')\n",
        "    plt.grid(True)\n",
        "    plt.tight_layout()\n",
        "    plt.show()\n",
        "\n",
        "    # Step 10: Final Scatter Plot with Clusters\n",
        "    plt.figure(figsize=(8, 5))\n",
        "    plt.scatter(df_clean['PC1'], df_clean['PC2'], c=clusters, cmap='plasma', s=50)\n",
        "    plt.title('PCA Projection with K-means Clustering')\n",
        "    plt.xlabel('Principal Component 1')\n",
        "    plt.ylabel('Principal Component 2')\n",
        "    plt.colorbar(label='Cluster')\n",
        "    plt.grid(True)\n",
        "    plt.tight_layout()\n",
        "    plt.show()\n"
      ],
      "metadata": {
        "id": "Ec7_IC3wL19Y"
      },
      "execution_count": 3,
      "outputs": []
    },
    {
      "cell_type": "code",
      "source": [
        "def run_pca_kmeans_analysis():"
      ],
      "metadata": {
        "id": "FGWjdljrLO9I"
      },
      "execution_count": null,
      "outputs": []
    }
  ]
}